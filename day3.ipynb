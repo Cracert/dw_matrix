{
 "cells": [
  {
   "cell_type": "code",
   "execution_count": 1,
   "metadata": {},
   "outputs": [],
   "source": [
    "import pandas as pd\n",
    "import numpy as np"
   ]
  },
  {
   "cell_type": "code",
   "execution_count": 2,
   "metadata": {},
   "outputs": [],
   "source": [
    "!echo 'data' > .gitignore"
   ]
  },
  {
   "cell_type": "code",
   "execution_count": 3,
   "metadata": {},
   "outputs": [],
   "source": [
    "!git add .gitignore"
   ]
  },
  {
   "cell_type": "code",
   "execution_count": 5,
   "metadata": {},
   "outputs": [
    {
     "name": "stderr",
     "output_type": "stream",
     "text": [
      "/home/robert/miniconda3/lib/python3.7/site-packages/IPython/core/interactiveshell.py:2714: DtypeWarning: Columns (39,45) have mixed types. Specify dtype option on import or set low_memory=False.\n",
      "  interactivity=interactivity, compiler=compiler, result=result)\n"
     ]
    },
    {
     "data": {
      "text/plain": [
       "(19387, 48)"
      ]
     },
     "execution_count": 5,
     "metadata": {},
     "output_type": "execute_result"
    }
   ],
   "source": [
    "df = pd.read_csv('data/datafiniti-mens-shoe-prices/data/7004_1.csv')\n",
    "df.shape"
   ]
  },
  {
   "cell_type": "code",
   "execution_count": 6,
   "metadata": {},
   "outputs": [
    {
     "data": {
      "text/html": [
       "<div>\n",
       "<style scoped>\n",
       "    .dataframe tbody tr th:only-of-type {\n",
       "        vertical-align: middle;\n",
       "    }\n",
       "\n",
       "    .dataframe tbody tr th {\n",
       "        vertical-align: top;\n",
       "    }\n",
       "\n",
       "    .dataframe thead th {\n",
       "        text-align: right;\n",
       "    }\n",
       "</style>\n",
       "<table border=\"1\" class=\"dataframe\">\n",
       "  <thead>\n",
       "    <tr style=\"text-align: right;\">\n",
       "      <th></th>\n",
       "      <th>id</th>\n",
       "      <th>asins</th>\n",
       "      <th>brand</th>\n",
       "      <th>categories</th>\n",
       "      <th>colors</th>\n",
       "      <th>count</th>\n",
       "      <th>dateadded</th>\n",
       "      <th>dateupdated</th>\n",
       "      <th>descriptions</th>\n",
       "      <th>dimension</th>\n",
       "      <th>...</th>\n",
       "      <th>prices_warranty</th>\n",
       "      <th>quantities</th>\n",
       "      <th>reviews</th>\n",
       "      <th>sizes</th>\n",
       "      <th>skus</th>\n",
       "      <th>sourceurls</th>\n",
       "      <th>upc</th>\n",
       "      <th>vin</th>\n",
       "      <th>websiteids</th>\n",
       "      <th>weight</th>\n",
       "    </tr>\n",
       "  </thead>\n",
       "  <tbody>\n",
       "    <tr>\n",
       "      <th>9034</th>\n",
       "      <td>AVpe6q3nLJeJML43yPmY</td>\n",
       "      <td>NaN</td>\n",
       "      <td>Nike</td>\n",
       "      <td>All Men's Shoes,Shoes,Men's Shoes,Clothing</td>\n",
       "      <td>SUMMIT WHITEBLACKSOARVOLT</td>\n",
       "      <td>NaN</td>\n",
       "      <td>2016-11-07T19:13:38Z</td>\n",
       "      <td>2016-11-07T19:13:38Z</td>\n",
       "      <td>[{\"dateSeen\":[\"2016-11-07T19:13:38Z\"],\"sourceU...</td>\n",
       "      <td>NaN</td>\n",
       "      <td>...</td>\n",
       "      <td>NaN</td>\n",
       "      <td>NaN</td>\n",
       "      <td>NaN</td>\n",
       "      <td>NaN</td>\n",
       "      <td>NaN</td>\n",
       "      <td>https://www.walmart.com/ip/NIKE-ZOOM-ELITE-RUN...</td>\n",
       "      <td>091203606724</td>\n",
       "      <td>NaN</td>\n",
       "      <td>NaN</td>\n",
       "      <td>NaN</td>\n",
       "    </tr>\n",
       "    <tr>\n",
       "      <th>8857</th>\n",
       "      <td>AVpe84dR1cnluZ0-akcS</td>\n",
       "      <td>NaN</td>\n",
       "      <td>Sechunk</td>\n",
       "      <td>Clothing, Shoes &amp; Accessories,Men's Accessorie...</td>\n",
       "      <td>Brown</td>\n",
       "      <td>NaN</td>\n",
       "      <td>2016-03-23T23:41:32Z</td>\n",
       "      <td>2016-04-01T21:29:00Z</td>\n",
       "      <td>NaN</td>\n",
       "      <td>NaN</td>\n",
       "      <td>...</td>\n",
       "      <td>NaN</td>\n",
       "      <td>NaN</td>\n",
       "      <td>NaN</td>\n",
       "      <td>NaN</td>\n",
       "      <td>[{\"sourceURLs\":[\"http://www.ebay.com/itm/Retro...</td>\n",
       "      <td>http://www.ebay.com/itm/Retro-Men-Shoulder-Bag...</td>\n",
       "      <td>701622120250</td>\n",
       "      <td>NaN</td>\n",
       "      <td>NaN</td>\n",
       "      <td>NaN</td>\n",
       "    </tr>\n",
       "    <tr>\n",
       "      <th>15381</th>\n",
       "      <td>AVpfj5kUilAPnD_xd_6y</td>\n",
       "      <td>NaN</td>\n",
       "      <td>adidas</td>\n",
       "      <td>Sporting Goods,Team Sports,Soccer,Clothing, Sh...</td>\n",
       "      <td>Solar GoldBlack</td>\n",
       "      <td>NaN</td>\n",
       "      <td>2016-04-10T23:18:31Z</td>\n",
       "      <td>2016-04-10T23:18:31Z</td>\n",
       "      <td>NaN</td>\n",
       "      <td>NaN</td>\n",
       "      <td>...</td>\n",
       "      <td>NaN</td>\n",
       "      <td>NaN</td>\n",
       "      <td>NaN</td>\n",
       "      <td>13</td>\n",
       "      <td>[{\"sourceURLs\":[\"http://www.ebay.com/itm/NIB-M...</td>\n",
       "      <td>http://www.ebay.com/itm/NIB-MENS-SIZE-13-ADIDA...</td>\n",
       "      <td>887383812655</td>\n",
       "      <td>NaN</td>\n",
       "      <td>NaN</td>\n",
       "      <td>NaN</td>\n",
       "    </tr>\n",
       "    <tr>\n",
       "      <th>16275</th>\n",
       "      <td>AVpfdvB9ilAPnD_xcNm4</td>\n",
       "      <td>NaN</td>\n",
       "      <td>Team Beans</td>\n",
       "      <td>Clothing,Shoes,Men's Shoes,Men's Slippers</td>\n",
       "      <td>Chicago Bulls</td>\n",
       "      <td>NaN</td>\n",
       "      <td>2017-01-14T19:32:50Z</td>\n",
       "      <td>2017-01-14T19:32:50Z</td>\n",
       "      <td>[{\"dateSeen\":[\"2017-01-14T19:32:50Z\"],\"sourceU...</td>\n",
       "      <td>NaN</td>\n",
       "      <td>...</td>\n",
       "      <td>NaN</td>\n",
       "      <td>NaN</td>\n",
       "      <td>NaN</td>\n",
       "      <td>Large,Medium,Small,Xl</td>\n",
       "      <td>NaN</td>\n",
       "      <td>https://www.walmart.com/ip/Chicago-Bulls-Big-L...</td>\n",
       "      <td>190163251521</td>\n",
       "      <td>NaN</td>\n",
       "      <td>NaN</td>\n",
       "      <td>NaN</td>\n",
       "    </tr>\n",
       "    <tr>\n",
       "      <th>16921</th>\n",
       "      <td>AVpfTbaJilAPnD_xZNj9</td>\n",
       "      <td>B0147LQ9ZW,B0147KNMWG,B0147KNTDI,B0147KNR76</td>\n",
       "      <td>Feraricci</td>\n",
       "      <td>Men,Dress &amp; Trouser Socks,Socks,Clothing, Shoe...</td>\n",
       "      <td>NaN</td>\n",
       "      <td>NaN</td>\n",
       "      <td>2015-12-01T00:50:55Z</td>\n",
       "      <td>2016-01-18T11:46:28Z</td>\n",
       "      <td>NaN</td>\n",
       "      <td>NaN</td>\n",
       "      <td>...</td>\n",
       "      <td>NaN</td>\n",
       "      <td>NaN</td>\n",
       "      <td>[{\"date\":\"2015-10-09T00:00:00Z\",\"dateAdded\":\"2...</td>\n",
       "      <td>NaN</td>\n",
       "      <td>NaN</td>\n",
       "      <td>http://www.amazon.com/Pack-Mens-Traditional-Ar...</td>\n",
       "      <td>NaN</td>\n",
       "      <td>NaN</td>\n",
       "      <td>NaN</td>\n",
       "      <td>NaN</td>\n",
       "    </tr>\n",
       "  </tbody>\n",
       "</table>\n",
       "<p>5 rows × 48 columns</p>\n",
       "</div>"
      ],
      "text/plain": [
       "                         id                                        asins  \\\n",
       "9034   AVpe6q3nLJeJML43yPmY                                          NaN   \n",
       "8857   AVpe84dR1cnluZ0-akcS                                          NaN   \n",
       "15381  AVpfj5kUilAPnD_xd_6y                                          NaN   \n",
       "16275  AVpfdvB9ilAPnD_xcNm4                                          NaN   \n",
       "16921  AVpfTbaJilAPnD_xZNj9  B0147LQ9ZW,B0147KNMWG,B0147KNTDI,B0147KNR76   \n",
       "\n",
       "            brand                                         categories  \\\n",
       "9034         Nike         All Men's Shoes,Shoes,Men's Shoes,Clothing   \n",
       "8857      Sechunk  Clothing, Shoes & Accessories,Men's Accessorie...   \n",
       "15381      adidas  Sporting Goods,Team Sports,Soccer,Clothing, Sh...   \n",
       "16275  Team Beans          Clothing,Shoes,Men's Shoes,Men's Slippers   \n",
       "16921   Feraricci  Men,Dress & Trouser Socks,Socks,Clothing, Shoe...   \n",
       "\n",
       "                          colors  count             dateadded  \\\n",
       "9034   SUMMIT WHITEBLACKSOARVOLT    NaN  2016-11-07T19:13:38Z   \n",
       "8857                       Brown    NaN  2016-03-23T23:41:32Z   \n",
       "15381            Solar GoldBlack    NaN  2016-04-10T23:18:31Z   \n",
       "16275              Chicago Bulls    NaN  2017-01-14T19:32:50Z   \n",
       "16921                        NaN    NaN  2015-12-01T00:50:55Z   \n",
       "\n",
       "                dateupdated  \\\n",
       "9034   2016-11-07T19:13:38Z   \n",
       "8857   2016-04-01T21:29:00Z   \n",
       "15381  2016-04-10T23:18:31Z   \n",
       "16275  2017-01-14T19:32:50Z   \n",
       "16921  2016-01-18T11:46:28Z   \n",
       "\n",
       "                                            descriptions dimension  ...  \\\n",
       "9034   [{\"dateSeen\":[\"2016-11-07T19:13:38Z\"],\"sourceU...       NaN  ...   \n",
       "8857                                                 NaN       NaN  ...   \n",
       "15381                                                NaN       NaN  ...   \n",
       "16275  [{\"dateSeen\":[\"2017-01-14T19:32:50Z\"],\"sourceU...       NaN  ...   \n",
       "16921                                                NaN       NaN  ...   \n",
       "\n",
       "       prices_warranty quantities  \\\n",
       "9034               NaN        NaN   \n",
       "8857               NaN        NaN   \n",
       "15381              NaN        NaN   \n",
       "16275              NaN        NaN   \n",
       "16921              NaN        NaN   \n",
       "\n",
       "                                                 reviews  \\\n",
       "9034                                                 NaN   \n",
       "8857                                                 NaN   \n",
       "15381                                                NaN   \n",
       "16275                                                NaN   \n",
       "16921  [{\"date\":\"2015-10-09T00:00:00Z\",\"dateAdded\":\"2...   \n",
       "\n",
       "                       sizes  \\\n",
       "9034                     NaN   \n",
       "8857                     NaN   \n",
       "15381                     13   \n",
       "16275  Large,Medium,Small,Xl   \n",
       "16921                    NaN   \n",
       "\n",
       "                                                    skus  \\\n",
       "9034                                                 NaN   \n",
       "8857   [{\"sourceURLs\":[\"http://www.ebay.com/itm/Retro...   \n",
       "15381  [{\"sourceURLs\":[\"http://www.ebay.com/itm/NIB-M...   \n",
       "16275                                                NaN   \n",
       "16921                                                NaN   \n",
       "\n",
       "                                              sourceurls           upc  vin  \\\n",
       "9034   https://www.walmart.com/ip/NIKE-ZOOM-ELITE-RUN...  091203606724  NaN   \n",
       "8857   http://www.ebay.com/itm/Retro-Men-Shoulder-Bag...  701622120250  NaN   \n",
       "15381  http://www.ebay.com/itm/NIB-MENS-SIZE-13-ADIDA...  887383812655  NaN   \n",
       "16275  https://www.walmart.com/ip/Chicago-Bulls-Big-L...  190163251521  NaN   \n",
       "16921  http://www.amazon.com/Pack-Mens-Traditional-Ar...           NaN  NaN   \n",
       "\n",
       "      websiteids weight  \n",
       "9034         NaN    NaN  \n",
       "8857         NaN    NaN  \n",
       "15381        NaN    NaN  \n",
       "16275        NaN    NaN  \n",
       "16921        NaN    NaN  \n",
       "\n",
       "[5 rows x 48 columns]"
      ]
     },
     "execution_count": 6,
     "metadata": {},
     "output_type": "execute_result"
    }
   ],
   "source": [
    "df.sample(5)"
   ]
  },
  {
   "cell_type": "code",
   "execution_count": 7,
   "metadata": {},
   "outputs": [
    {
     "data": {
      "text/plain": [
       "Index(['id', 'asins', 'brand', 'categories', 'colors', 'count', 'dateadded',\n",
       "       'dateupdated', 'descriptions', 'dimension', 'ean', 'features',\n",
       "       'flavors', 'imageurls', 'isbn', 'keys', 'manufacturer',\n",
       "       'manufacturernumber', 'merchants', 'name', 'prices_amountmin',\n",
       "       'prices_amountmax', 'prices_availability', 'prices_color',\n",
       "       'prices_condition', 'prices_count', 'prices_currency',\n",
       "       'prices_dateadded', 'prices_dateseen', 'prices_flavor', 'prices_issale',\n",
       "       'prices_merchant', 'prices_offer', 'prices_returnpolicy',\n",
       "       'prices_shipping', 'prices_size', 'prices_source', 'prices_sourceurls',\n",
       "       'prices_warranty', 'quantities', 'reviews', 'sizes', 'skus',\n",
       "       'sourceurls', 'upc', 'vin', 'websiteids', 'weight'],\n",
       "      dtype='object')"
      ]
     },
     "execution_count": 7,
     "metadata": {},
     "output_type": "execute_result"
    }
   ],
   "source": [
    "df.columns"
   ]
  },
  {
   "cell_type": "code",
   "execution_count": 8,
   "metadata": {},
   "outputs": [
    {
     "data": {
      "text/plain": [
       "array(['USD', 'AUD', 'CAD', 'EUR', nan, 'GBP', 'New with box',\n",
       "       'UnbeatableSale.com, Inc. - Walmart.com',\n",
       "       'PalmBeach Jewelry - Walmart.com', 'new', 'New without tags',\n",
       "       'SHOEBACCA LTD. - Walmart.com', 'Shoes.com',\n",
       "       'Wholesale Costume and Party Supplies - Walmart.com'], dtype=object)"
      ]
     },
     "execution_count": 8,
     "metadata": {},
     "output_type": "execute_result"
    }
   ],
   "source": [
    "df.prices_currency.unique()"
   ]
  },
  {
   "cell_type": "code",
   "execution_count": 9,
   "metadata": {},
   "outputs": [
    {
     "data": {
      "text/plain": [
       "USD                                                   18524\n",
       "AUD                                                     338\n",
       "CAD                                                     303\n",
       "EUR                                                     107\n",
       "GBP                                                      22\n",
       "New with box                                              3\n",
       "new                                                       3\n",
       "UnbeatableSale.com, Inc. - Walmart.com                    3\n",
       "PalmBeach Jewelry - Walmart.com                           3\n",
       "Wholesale Costume and Party Supplies - Walmart.com        2\n",
       "Shoes.com                                                 1\n",
       "New without tags                                          1\n",
       "SHOEBACCA LTD. - Walmart.com                              1\n",
       "Name: prices_currency, dtype: int64"
      ]
     },
     "execution_count": 9,
     "metadata": {},
     "output_type": "execute_result"
    }
   ],
   "source": [
    "df.prices_currency.value_counts()"
   ]
  },
  {
   "cell_type": "code",
   "execution_count": 10,
   "metadata": {},
   "outputs": [
    {
     "data": {
      "text/plain": [
       "USD                                                   0.959246\n",
       "AUD                                                   0.017503\n",
       "CAD                                                   0.015691\n",
       "EUR                                                   0.005541\n",
       "GBP                                                   0.001139\n",
       "New with box                                          0.000155\n",
       "new                                                   0.000155\n",
       "UnbeatableSale.com, Inc. - Walmart.com                0.000155\n",
       "PalmBeach Jewelry - Walmart.com                       0.000155\n",
       "Wholesale Costume and Party Supplies - Walmart.com    0.000104\n",
       "Shoes.com                                             0.000052\n",
       "New without tags                                      0.000052\n",
       "SHOEBACCA LTD. - Walmart.com                          0.000052\n",
       "Name: prices_currency, dtype: float64"
      ]
     },
     "execution_count": 10,
     "metadata": {},
     "output_type": "execute_result"
    }
   ],
   "source": [
    "df.prices_currency.value_counts(normalize=True)"
   ]
  },
  {
   "cell_type": "code",
   "execution_count": 11,
   "metadata": {},
   "outputs": [],
   "source": [
    "df_usd = df[ df.prices_currency == 'USD' ].copy()"
   ]
  },
  {
   "cell_type": "code",
   "execution_count": 17,
   "metadata": {},
   "outputs": [
    {
     "data": {
      "text/plain": [
       "<matplotlib.axes._subplots.AxesSubplot at 0x7f5d588f0a90>"
      ]
     },
     "execution_count": 17,
     "metadata": {},
     "output_type": "execute_result"
    },
    {
     "data": {
      "image/png": "[encoded data removed]",
      "text/plain": [
       "<Figure size 432x288 with 1 Axes>"
      ]
     },
     "metadata": {
      "needs_background": "light"
     },
     "output_type": "display_data"
    }
   ],
   "source": [
    "df_usd.prices_amountmin = df_usd.prices_amountmin.astype(np.float) # object na float\n",
    "df_usd['prices_amountmin'].hist()"
   ]
  },
  {
   "cell_type": "code",
   "execution_count": 20,
   "metadata": {},
   "outputs": [
    {
     "data": {
      "text/plain": [
       "895.0"
      ]
     },
     "execution_count": 20,
     "metadata": {},
     "output_type": "execute_result"
    }
   ],
   "source": [
    "filter_max = np.percentile( df_usd['prices_amountmin'], 99 )\n",
    "filter_max"
   ]
  },
  {
   "cell_type": "code",
   "execution_count": 21,
   "metadata": {},
   "outputs": [],
   "source": [
    "df_usd_filter = df_usd[ df_usd['prices_amountmin'] < filter_max]"
   ]
  },
  {
   "cell_type": "code",
   "execution_count": 23,
   "metadata": {},
   "outputs": [
    {
     "data": {
      "text/plain": [
       "<matplotlib.axes._subplots.AxesSubplot at 0x7f5d587f1f60>"
      ]
     },
     "execution_count": 23,
     "metadata": {},
     "output_type": "execute_result"
    },
    {
     "data": {
      "image/png": "[encoded data removed]",
      "text/plain": [
       "<Figure size 432x288 with 1 Axes>"
      ]
     },
     "metadata": {
      "needs_background": "light"
     },
     "output_type": "display_data"
    }
   ],
   "source": [
    "df_usd_filter.prices_amountmin.hist(bins=100)"
   ]
  },
  {
   "cell_type": "code",
   "execution_count": null,
   "metadata": {},
   "outputs": [],
   "source": []
  }
 ],
 "metadata": {
  "kernelspec": {
   "display_name": "Python 3",
   "language": "python",
   "name": "python3"
  },
  "language_info": {
   "codemirror_mode": {
    "name": "ipython",
    "version": 3
   },
   "file_extension": ".py",
   "mimetype": "text/x-python",
   "name": "python",
   "nbconvert_exporter": "python",
   "pygments_lexer": "ipython3",
   "version": "3.7.1"
  }
 },
 "nbformat": 4,
 "nbformat_minor": 2
}
