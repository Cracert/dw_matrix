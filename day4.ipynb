{
 "cells": [
  {
   "cell_type": "code",
   "execution_count": 4,
   "metadata": {},
   "outputs": [],
   "source": [
    "import pandas as pd\n",
    "import numpy as np"
   ]
  },
  {
   "cell_type": "code",
   "execution_count": 5,
   "metadata": {},
   "outputs": [
    {
     "name": "stderr",
     "output_type": "stream",
     "text": [
      "/home/robert/miniconda3/lib/python3.7/site-packages/IPython/core/interactiveshell.py:2714: DtypeWarning: Columns (39,45) have mixed types. Specify dtype option on import or set low_memory=False.\n",
      "  interactivity=interactivity, compiler=compiler, result=result)\n"
     ]
    },
    {
     "data": {
      "text/plain": [
       "(19387, 48)"
      ]
     },
     "execution_count": 5,
     "metadata": {},
     "output_type": "execute_result"
    }
   ],
   "source": [
    "df = pd.read_csv('data/datafiniti-mens-shoe-prices/data/7004_1.csv')\n",
    "df.shape"
   ]
  },
  {
   "cell_type": "code",
   "execution_count": 6,
   "metadata": {},
   "outputs": [
    {
     "data": {
      "text/html": [
       "<div>\n",
       "<style scoped>\n",
       "    .dataframe tbody tr th:only-of-type {\n",
       "        vertical-align: middle;\n",
       "    }\n",
       "\n",
       "    .dataframe tbody tr th {\n",
       "        vertical-align: top;\n",
       "    }\n",
       "\n",
       "    .dataframe thead th {\n",
       "        text-align: right;\n",
       "    }\n",
       "</style>\n",
       "<table border=\"1\" class=\"dataframe\">\n",
       "  <thead>\n",
       "    <tr style=\"text-align: right;\">\n",
       "      <th></th>\n",
       "      <th>id</th>\n",
       "      <th>asins</th>\n",
       "      <th>brand</th>\n",
       "      <th>categories</th>\n",
       "      <th>colors</th>\n",
       "      <th>count</th>\n",
       "      <th>dateadded</th>\n",
       "      <th>dateupdated</th>\n",
       "      <th>descriptions</th>\n",
       "      <th>dimension</th>\n",
       "      <th>...</th>\n",
       "      <th>prices_warranty</th>\n",
       "      <th>quantities</th>\n",
       "      <th>reviews</th>\n",
       "      <th>sizes</th>\n",
       "      <th>skus</th>\n",
       "      <th>sourceurls</th>\n",
       "      <th>upc</th>\n",
       "      <th>vin</th>\n",
       "      <th>websiteids</th>\n",
       "      <th>weight</th>\n",
       "    </tr>\n",
       "  </thead>\n",
       "  <tbody>\n",
       "    <tr>\n",
       "      <th>1308</th>\n",
       "      <td>AVpfCvGxilAPnD_xTrto</td>\n",
       "      <td>NaN</td>\n",
       "      <td>Azzuro</td>\n",
       "      <td>Men's Sport Coats &amp; Blazers,All Men's Clothing...</td>\n",
       "      <td>NaN</td>\n",
       "      <td>NaN</td>\n",
       "      <td>2016-01-02T03:45:13Z</td>\n",
       "      <td>2016-04-06T03:06:00Z</td>\n",
       "      <td>NaN</td>\n",
       "      <td>10.5 in x 11.25 in x 1.2 in</td>\n",
       "      <td>...</td>\n",
       "      <td>NaN</td>\n",
       "      <td>NaN</td>\n",
       "      <td>NaN</td>\n",
       "      <td>NaN</td>\n",
       "      <td>[{\"sourceURLs\":[\"http://www.sears.com/content/...</td>\n",
       "      <td>http://www.sears.com/content/pdp/products/pric...</td>\n",
       "      <td>NaN</td>\n",
       "      <td>NaN</td>\n",
       "      <td>NaN</td>\n",
       "      <td>NaN</td>\n",
       "    </tr>\n",
       "    <tr>\n",
       "      <th>1254</th>\n",
       "      <td>AVpfDbPS1cnluZ0-c3vv</td>\n",
       "      <td>NaN</td>\n",
       "      <td>Dan Post</td>\n",
       "      <td>Steel-Toed Boots,Men's Boots,Workwear &amp; Unifor...</td>\n",
       "      <td>Brown,Distressed Tan</td>\n",
       "      <td>NaN</td>\n",
       "      <td>2016-03-24T20:47:49Z</td>\n",
       "      <td>2016-03-25T22:49:14Z</td>\n",
       "      <td>NaN</td>\n",
       "      <td>NaN</td>\n",
       "      <td>...</td>\n",
       "      <td>NaN</td>\n",
       "      <td>NaN</td>\n",
       "      <td>NaN</td>\n",
       "      <td>10.5,8.5,9.5,15,13,14,11,12,10,7,7.5,9,11.5,8</td>\n",
       "      <td>[{\"sourceURLs\":[\"http://www.sears.com/content/...</td>\n",
       "      <td>http://www.sears.com/content/pdp/config/produc...</td>\n",
       "      <td>NaN</td>\n",
       "      <td>NaN</td>\n",
       "      <td>NaN</td>\n",
       "      <td>NaN</td>\n",
       "    </tr>\n",
       "    <tr>\n",
       "      <th>1456</th>\n",
       "      <td>AVpfSlFGilAPnD_xY8Fc</td>\n",
       "      <td>NaN</td>\n",
       "      <td>Adidas</td>\n",
       "      <td>All Men's Clothing,Men's Clothing,Men's Socks,...</td>\n",
       "      <td>NaN</td>\n",
       "      <td>NaN</td>\n",
       "      <td>2016-03-11T23:01:43Z</td>\n",
       "      <td>2016-03-29T05:08:03Z</td>\n",
       "      <td>NaN</td>\n",
       "      <td>1 in x 1 in x 1 in</td>\n",
       "      <td>...</td>\n",
       "      <td>NaN</td>\n",
       "      <td>NaN</td>\n",
       "      <td>NaN</td>\n",
       "      <td>NaN</td>\n",
       "      <td>[{\"sourceURLs\":[\"http://www.sears.com/content/...</td>\n",
       "      <td>http://www.sears.com/content/pdp/config/produc...</td>\n",
       "      <td>NaN</td>\n",
       "      <td>NaN</td>\n",
       "      <td>NaN</td>\n",
       "      <td>NaN</td>\n",
       "    </tr>\n",
       "    <tr>\n",
       "      <th>18813</th>\n",
       "      <td>AVpfeYpG1cnluZ0-lX9v</td>\n",
       "      <td>NaN</td>\n",
       "      <td>Smart Step</td>\n",
       "      <td>All Men's Shoes,Shoes,Men's Shoes,Clothing</td>\n",
       "      <td>Multicolor</td>\n",
       "      <td>NaN</td>\n",
       "      <td>2016-11-15T13:19:15Z</td>\n",
       "      <td>2016-11-15T13:19:15Z</td>\n",
       "      <td>[{\"dateSeen\":[\"2016-11-15T13:19:15Z\"],\"sourceU...</td>\n",
       "      <td>NaN</td>\n",
       "      <td>...</td>\n",
       "      <td>NaN</td>\n",
       "      <td>NaN</td>\n",
       "      <td>NaN</td>\n",
       "      <td>NaN</td>\n",
       "      <td>NaN</td>\n",
       "      <td>https://www.walmart.com/ip/Smart-Step-ST2136-U...</td>\n",
       "      <td>699302585096</td>\n",
       "      <td>NaN</td>\n",
       "      <td>NaN</td>\n",
       "      <td>NaN</td>\n",
       "    </tr>\n",
       "    <tr>\n",
       "      <th>11302</th>\n",
       "      <td>AVpfukaHLJeJML43CpKe</td>\n",
       "      <td>NaN</td>\n",
       "      <td>Fairly Odd Novelties</td>\n",
       "      <td>Hats,Clothing, Shoes &amp; Accessories,Men's Acces...</td>\n",
       "      <td>NaN</td>\n",
       "      <td>NaN</td>\n",
       "      <td>2016-11-07T00:21:38Z</td>\n",
       "      <td>2016-11-07T00:21:38Z</td>\n",
       "      <td>[{\"dateSeen\":[\"2016-11-07T00:21:38Z\"],\"sourceU...</td>\n",
       "      <td>NaN</td>\n",
       "      <td>...</td>\n",
       "      <td>NaN</td>\n",
       "      <td>NaN</td>\n",
       "      <td>NaN</td>\n",
       "      <td>NaN</td>\n",
       "      <td>[{\"sourceURLs\":[\"http://www.ebay.com/itm/Beer-...</td>\n",
       "      <td>http://www.ebay.com/itm/Beer-Soda-Guzzler-Helm...</td>\n",
       "      <td>818947019982</td>\n",
       "      <td>NaN</td>\n",
       "      <td>NaN</td>\n",
       "      <td>NaN</td>\n",
       "    </tr>\n",
       "  </tbody>\n",
       "</table>\n",
       "<p>5 rows × 48 columns</p>\n",
       "</div>"
      ],
      "text/plain": [
       "                         id asins                 brand  \\\n",
       "1308   AVpfCvGxilAPnD_xTrto   NaN                Azzuro   \n",
       "1254   AVpfDbPS1cnluZ0-c3vv   NaN              Dan Post   \n",
       "1456   AVpfSlFGilAPnD_xY8Fc   NaN                Adidas   \n",
       "18813  AVpfeYpG1cnluZ0-lX9v   NaN            Smart Step   \n",
       "11302  AVpfukaHLJeJML43CpKe   NaN  Fairly Odd Novelties   \n",
       "\n",
       "                                              categories  \\\n",
       "1308   Men's Sport Coats & Blazers,All Men's Clothing...   \n",
       "1254   Steel-Toed Boots,Men's Boots,Workwear & Unifor...   \n",
       "1456   All Men's Clothing,Men's Clothing,Men's Socks,...   \n",
       "18813         All Men's Shoes,Shoes,Men's Shoes,Clothing   \n",
       "11302  Hats,Clothing, Shoes & Accessories,Men's Acces...   \n",
       "\n",
       "                     colors  count             dateadded  \\\n",
       "1308                    NaN    NaN  2016-01-02T03:45:13Z   \n",
       "1254   Brown,Distressed Tan    NaN  2016-03-24T20:47:49Z   \n",
       "1456                    NaN    NaN  2016-03-11T23:01:43Z   \n",
       "18813            Multicolor    NaN  2016-11-15T13:19:15Z   \n",
       "11302                   NaN    NaN  2016-11-07T00:21:38Z   \n",
       "\n",
       "                dateupdated  \\\n",
       "1308   2016-04-06T03:06:00Z   \n",
       "1254   2016-03-25T22:49:14Z   \n",
       "1456   2016-03-29T05:08:03Z   \n",
       "18813  2016-11-15T13:19:15Z   \n",
       "11302  2016-11-07T00:21:38Z   \n",
       "\n",
       "                                            descriptions  \\\n",
       "1308                                                 NaN   \n",
       "1254                                                 NaN   \n",
       "1456                                                 NaN   \n",
       "18813  [{\"dateSeen\":[\"2016-11-15T13:19:15Z\"],\"sourceU...   \n",
       "11302  [{\"dateSeen\":[\"2016-11-07T00:21:38Z\"],\"sourceU...   \n",
       "\n",
       "                         dimension  ...  prices_warranty quantities  reviews  \\\n",
       "1308   10.5 in x 11.25 in x 1.2 in  ...              NaN        NaN      NaN   \n",
       "1254                           NaN  ...              NaN        NaN      NaN   \n",
       "1456            1 in x 1 in x 1 in  ...              NaN        NaN      NaN   \n",
       "18813                          NaN  ...              NaN        NaN      NaN   \n",
       "11302                          NaN  ...              NaN        NaN      NaN   \n",
       "\n",
       "                                               sizes  \\\n",
       "1308                                             NaN   \n",
       "1254   10.5,8.5,9.5,15,13,14,11,12,10,7,7.5,9,11.5,8   \n",
       "1456                                             NaN   \n",
       "18813                                            NaN   \n",
       "11302                                            NaN   \n",
       "\n",
       "                                                    skus  \\\n",
       "1308   [{\"sourceURLs\":[\"http://www.sears.com/content/...   \n",
       "1254   [{\"sourceURLs\":[\"http://www.sears.com/content/...   \n",
       "1456   [{\"sourceURLs\":[\"http://www.sears.com/content/...   \n",
       "18813                                                NaN   \n",
       "11302  [{\"sourceURLs\":[\"http://www.ebay.com/itm/Beer-...   \n",
       "\n",
       "                                              sourceurls           upc  vin  \\\n",
       "1308   http://www.sears.com/content/pdp/products/pric...           NaN  NaN   \n",
       "1254   http://www.sears.com/content/pdp/config/produc...           NaN  NaN   \n",
       "1456   http://www.sears.com/content/pdp/config/produc...           NaN  NaN   \n",
       "18813  https://www.walmart.com/ip/Smart-Step-ST2136-U...  699302585096  NaN   \n",
       "11302  http://www.ebay.com/itm/Beer-Soda-Guzzler-Helm...  818947019982  NaN   \n",
       "\n",
       "      websiteids weight  \n",
       "1308         NaN    NaN  \n",
       "1254         NaN    NaN  \n",
       "1456         NaN    NaN  \n",
       "18813        NaN    NaN  \n",
       "11302        NaN    NaN  \n",
       "\n",
       "[5 rows x 48 columns]"
      ]
     },
     "execution_count": 6,
     "metadata": {},
     "output_type": "execute_result"
    }
   ],
   "source": [
    "df.sample(5)"
   ]
  },
  {
   "cell_type": "code",
   "execution_count": 7,
   "metadata": {},
   "outputs": [
    {
     "data": {
      "text/plain": [
       "Index(['id', 'asins', 'brand', 'categories', 'colors', 'count', 'dateadded',\n",
       "       'dateupdated', 'descriptions', 'dimension', 'ean', 'features',\n",
       "       'flavors', 'imageurls', 'isbn', 'keys', 'manufacturer',\n",
       "       'manufacturernumber', 'merchants', 'name', 'prices_amountmin',\n",
       "       'prices_amountmax', 'prices_availability', 'prices_color',\n",
       "       'prices_condition', 'prices_count', 'prices_currency',\n",
       "       'prices_dateadded', 'prices_dateseen', 'prices_flavor', 'prices_issale',\n",
       "       'prices_merchant', 'prices_offer', 'prices_returnpolicy',\n",
       "       'prices_shipping', 'prices_size', 'prices_source', 'prices_sourceurls',\n",
       "       'prices_warranty', 'quantities', 'reviews', 'sizes', 'skus',\n",
       "       'sourceurls', 'upc', 'vin', 'websiteids', 'weight'],\n",
       "      dtype='object')"
      ]
     },
     "execution_count": 7,
     "metadata": {},
     "output_type": "execute_result"
    }
   ],
   "source": [
    "df.columns"
   ]
  },
  {
   "cell_type": "code",
   "execution_count": 8,
   "metadata": {},
   "outputs": [
    {
     "data": {
      "text/plain": [
       "array(['USD', 'AUD', 'CAD', 'EUR', nan, 'GBP', 'New with box',\n",
       "       'UnbeatableSale.com, Inc. - Walmart.com',\n",
       "       'PalmBeach Jewelry - Walmart.com', 'new', 'New without tags',\n",
       "       'SHOEBACCA LTD. - Walmart.com', 'Shoes.com',\n",
       "       'Wholesale Costume and Party Supplies - Walmart.com'], dtype=object)"
      ]
     },
     "execution_count": 8,
     "metadata": {},
     "output_type": "execute_result"
    }
   ],
   "source": [
    "df.prices_currency.unique()"
   ]
  },
  {
   "cell_type": "code",
   "execution_count": 9,
   "metadata": {},
   "outputs": [
    {
     "data": {
      "text/plain": [
       "USD                                                   18524\n",
       "AUD                                                     338\n",
       "CAD                                                     303\n",
       "EUR                                                     107\n",
       "GBP                                                      22\n",
       "New with box                                              3\n",
       "UnbeatableSale.com, Inc. - Walmart.com                    3\n",
       "PalmBeach Jewelry - Walmart.com                           3\n",
       "new                                                       3\n",
       "Wholesale Costume and Party Supplies - Walmart.com        2\n",
       "Shoes.com                                                 1\n",
       "New without tags                                          1\n",
       "SHOEBACCA LTD. - Walmart.com                              1\n",
       "Name: prices_currency, dtype: int64"
      ]
     },
     "execution_count": 9,
     "metadata": {},
     "output_type": "execute_result"
    }
   ],
   "source": [
    "df.prices_currency.value_counts()"
   ]
  },
  {
   "cell_type": "code",
   "execution_count": 10,
   "metadata": {},
   "outputs": [
    {
     "data": {
      "text/plain": [
       "USD                                                   0.959246\n",
       "AUD                                                   0.017503\n",
       "CAD                                                   0.015691\n",
       "EUR                                                   0.005541\n",
       "GBP                                                   0.001139\n",
       "New with box                                          0.000155\n",
       "UnbeatableSale.com, Inc. - Walmart.com                0.000155\n",
       "PalmBeach Jewelry - Walmart.com                       0.000155\n",
       "new                                                   0.000155\n",
       "Wholesale Costume and Party Supplies - Walmart.com    0.000104\n",
       "Shoes.com                                             0.000052\n",
       "New without tags                                      0.000052\n",
       "SHOEBACCA LTD. - Walmart.com                          0.000052\n",
       "Name: prices_currency, dtype: float64"
      ]
     },
     "execution_count": 10,
     "metadata": {},
     "output_type": "execute_result"
    }
   ],
   "source": [
    "df.prices_currency.value_counts(normalize=True)"
   ]
  },
  {
   "cell_type": "code",
   "execution_count": 11,
   "metadata": {},
   "outputs": [],
   "source": [
    "df_usd = df[ df.prices_currency == 'USD' ].copy()"
   ]
  },
  {
   "cell_type": "code",
   "execution_count": 12,
   "metadata": {},
   "outputs": [
    {
     "data": {
      "text/plain": [
       "<matplotlib.axes._subplots.AxesSubplot at 0x7f50d958dcf8>"
      ]
     },
     "execution_count": 12,
     "metadata": {},
     "output_type": "execute_result"
    }
   ],
   "source": [
    "df_usd.prices_amountmin = df_usd.prices_amountmin.astype(np.float) # object na float\n",
    "df_usd['prices_amountmin'].hist()"
   ]
  },
  {
   "cell_type": "code",
   "execution_count": 13,
   "metadata": {},
   "outputs": [
    {
     "data": {
      "text/plain": [
       "895.0"
      ]
     },
     "execution_count": 13,
     "metadata": {},
     "output_type": "execute_result"
    }
   ],
   "source": [
    "filter_max = np.percentile( df_usd['prices_amountmin'], 99 )\n",
    "filter_max"
   ]
  },
  {
   "cell_type": "code",
   "execution_count": 14,
   "metadata": {},
   "outputs": [],
   "source": [
    "df_usd_filter = df_usd[ df_usd['prices_amountmin'] < filter_max]"
   ]
  },
  {
   "cell_type": "code",
   "execution_count": 15,
   "metadata": {},
   "outputs": [
    {
     "data": {
      "text/plain": [
       "<matplotlib.axes._subplots.AxesSubplot at 0x7f50d9420358>"
      ]
     },
     "execution_count": 15,
     "metadata": {},
     "output_type": "execute_result"
    },
    {
     "data": {
      "image/png": "[encoded data removed]",
      "text/plain": [
       "<Figure size 432x288 with 1 Axes>"
      ]
     },
     "metadata": {
      "needs_background": "light"
     },
     "output_type": "display_data"
    }
   ],
   "source": [
    "df_usd_filter.prices_amountmin.hist(bins=100)"
   ]
  },
  {
   "cell_type": "code",
   "execution_count": 16,
   "metadata": {},
   "outputs": [],
   "source": [
    "df_usd_filter.to_csv('data/men_shoes.csv', index=False)"
   ]
  },
  {
   "cell_type": "code",
   "execution_count": null,
   "metadata": {},
   "outputs": [],
   "source": []
  }
 ],
 "metadata": {
  "kernelspec": {
   "display_name": "Python 3",
   "language": "python",
   "name": "python3"
  },
  "language_info": {
   "codemirror_mode": {
    "name": "ipython",
    "version": 3
   },
   "file_extension": ".py",
   "mimetype": "text/x-python",
   "name": "python",
   "nbconvert_exporter": "python",
   "pygments_lexer": "ipython3",
   "version": "3.7.1"
  }
 },
 "nbformat": 4,
 "nbformat_minor": 2
}
